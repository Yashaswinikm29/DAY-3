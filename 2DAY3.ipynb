{
 "cells": [
  {
   "cell_type": "code",
   "execution_count": 1,
   "id": "707e8263-2f3a-43a0-91b4-1b2ebbc275df",
   "metadata": {},
   "outputs": [],
   "source": [
    "import numpy as np  # Importing numpy for matrix operations\n",
    "\n",
    "# Softmax for a single vector\n",
    "def soft_max_vec(vec):\n",
    "    # Convert values to probabilities (numerical stability not included here)\n",
    "    return np.exp(vec) / np.sum(np.exp(vec))\n",
    "\n",
    "# Softmax applied row-wise to a matrix\n",
    "def soft_max_mat(mat):\n",
    "    # Apply softmax to each row of the matrix\n",
    "    return np.exp(mat) / np.sum(np.exp(mat), axis=1).reshape(-1, 1)\n",
    "\n",
    "# Sigmoid function used in hidden layers\n",
    "def sigmoid(x):\n",
    "    return 1 / (1 + np.exp(-x))\n"
   ]
  },
  {
   "cell_type": "code",
   "execution_count": 2,
   "id": "6bbcc93d-b367-4597-9c24-f7acfde53201",
   "metadata": {},
   "outputs": [],
   "source": [
    "# Weight matrix from input layer (3 neurons) to first hidden layer (4 neurons)\n",
    "W_1 = np.array([[2, -1, 1, 4],\n",
    "                [-1, 2, -3, 1],\n",
    "                [3, -2, -1, 5]])\n",
    "\n",
    "# Weight matrix from first hidden layer (4 neurons) to second hidden layer (4 neurons)\n",
    "W_2 = np.array([[3, 1, -2, 1],\n",
    "                [-2, 4, 1, -4],\n",
    "                [-1, -3, 2, -5],\n",
    "                [3, 1, 1, 1]])\n",
    "\n",
    "# Weight matrix from second hidden layer (4 neurons) to output layer (3 classes)\n",
    "W_3 = np.array([[-1, 3, -2],\n",
    "                [1, -1, -3],\n",
    "                [3, -2, 2],\n",
    "                [1, 2, 1]])\n",
    "\n",
    "# Single input vector (3 input features)\n",
    "x_in = np.array([0.5, 0.8, 0.2])\n",
    "\n",
    "# Input matrix with 7 input samples (each row is one input)\n",
    "x_mat_in = np.array([[0.5, 0.8, 0.2],\n",
    "                     [0.1, 0.9, 0.6],\n",
    "                     [0.2, 0.2, 0.3],\n",
    "                     [0.6, 0.1, 0.9],\n",
    "                     [0.5, 0.5, 0.4],\n",
    "                     [0.9, 0.1, 0.9],\n",
    "                     [0.1, 0.8, 0.7]])\n"
   ]
  },
  {
   "cell_type": "code",
   "execution_count": 3,
   "id": "61e6c26e-b628-4771-a8a8-5e04d120d622",
   "metadata": {},
   "outputs": [],
   "source": [
    "# Function to do the neural network forward pass for one input (x_in)\n",
    "def forward_single(x_in, W_1, W_2, W_3):\n",
    "    # First layer: input to hidden1\n",
    "    z1 = np.dot(x_in, W_1)       # shape: (4,)\n",
    "    a1 = sigmoid(z1)             # apply sigmoid activation\n",
    "\n",
    "    # Second layer: hidden1 to hidden2\n",
    "    z2 = np.dot(a1, W_2)         # shape: (4,)\n",
    "    a2 = sigmoid(z2)             # apply sigmoid again\n",
    "\n",
    "    # Output layer: hidden2 to output\n",
    "    z3 = np.dot(a2, W_3)         # shape: (3,) — 3 output classes\n",
    "    output = soft_max_vec(z3)    # apply softmax for classification\n",
    "\n",
    "    return output\n"
   ]
  },
  {
   "cell_type": "code",
   "execution_count": 4,
   "id": "ce77076e-66ae-4fae-b833-dd616ae17411",
   "metadata": {},
   "outputs": [],
   "source": [
    "# Function to process a matrix of 7 inputs (x_mat_in), each row is an input\n",
    "def forward_matrix(x_mat_in, W_1, W_2, W_3):\n",
    "    # First layer: input to hidden1\n",
    "    z1 = np.dot(x_mat_in, W_1)   # shape: (7, 4)\n",
    "    a1 = sigmoid(z1)             # apply sigmoid to each element\n",
    "\n",
    "    # Second layer: hidden1 to hidden2\n",
    "    z2 = np.dot(a1, W_2)         # shape: (7, 4)\n",
    "    a2 = sigmoid(z2)             # apply sigmoid\n",
    "\n",
    "    # Output layer: hidden2 to output\n",
    "    z3 = np.dot(a2, W_3)         # shape: (7, 3)\n",
    "    output = soft_max_mat(z3)    # apply softmax row-wise for classification\n",
    "\n",
    "    return output\n"
   ]
  },
  {
   "cell_type": "code",
   "execution_count": 5,
   "id": "aa0403e2-c590-47e1-a6c5-db3ea6f483ce",
   "metadata": {},
   "outputs": [
    {
     "name": "stdout",
     "output_type": "stream",
     "text": [
      "Output for single input (x_in):\n",
      "[0.72780576 0.26927918 0.00291506]\n",
      "\n",
      "Output for all 7 inputs (x_mat_in):\n",
      "[[0.72780576 0.26927918 0.00291506]\n",
      " [0.62054212 0.37682531 0.00263257]\n",
      " [0.69267581 0.30361576 0.00370844]\n",
      " [0.36618794 0.63016955 0.00364252]\n",
      " [0.57199769 0.4251982  0.00280411]\n",
      " [0.38373781 0.61163804 0.00462415]\n",
      " [0.52510443 0.4725011  0.00239447]]\n"
     ]
    }
   ],
   "source": [
    "# Test the forward pass for single input\n",
    "print(\"Output for single input (x_in):\")\n",
    "print(forward_single(x_in, W_1, W_2, W_3))\n",
    "\n",
    "# Test the forward pass for multiple inputs\n",
    "print(\"\\nOutput for all 7 inputs (x_mat_in):\")\n",
    "print(forward_matrix(x_mat_in, W_1, W_2, W_3))\n"
   ]
  },
  {
   "cell_type": "code",
   "execution_count": null,
   "id": "1503daea-330a-47d1-a6af-340d4d7c9f68",
   "metadata": {},
   "outputs": [],
   "source": []
  }
 ],
 "metadata": {
  "kernelspec": {
   "display_name": "Python 3 (ipykernel)",
   "language": "python",
   "name": "python3"
  },
  "language_info": {
   "codemirror_mode": {
    "name": "ipython",
    "version": 3
   },
   "file_extension": ".py",
   "mimetype": "text/x-python",
   "name": "python",
   "nbconvert_exporter": "python",
   "pygments_lexer": "ipython3",
   "version": "3.11.7"
  }
 },
 "nbformat": 4,
 "nbformat_minor": 5
}
