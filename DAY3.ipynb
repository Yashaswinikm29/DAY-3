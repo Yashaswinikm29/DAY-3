{
 "cells": [
  {
   "cell_type": "code",
   "execution_count": 1,
   "id": "f6b33efd-6e5c-4ed8-ae85-558bb5531395",
   "metadata": {},
   "outputs": [],
   "source": [
    "# Import numpy for matrix math and matplotlib for plotting\n",
    "import numpy as np\n",
    "import matplotlib.pyplot as plt\n"
   ]
  },
  {
   "cell_type": "code",
   "execution_count": 2,
   "id": "ebb477c2-df14-4368-b4c9-6dc3848932b4",
   "metadata": {},
   "outputs": [],
   "source": [
    "#Activation Functions\n",
    "# Define the sigmoid activation function\n",
    "def sigmoid(x):\n",
    "    return 1 / (1 + np.exp(-x))\n",
    "\n",
    "# Define the derivative of the sigmoid function for backpropagation\n",
    "def sigmoid_derivative(x):\n",
    "    return x * (1 - x)\n"
   ]
  },
  {
   "cell_type": "code",
   "execution_count": 3,
   "id": "3617425a-b8f0-49d7-b241-1e9338ef584c",
   "metadata": {},
   "outputs": [],
   "source": [
    "#Input and Output for XOR\n",
    "# XOR input values (4 samples, 2 features each)\n",
    "X = np.array([[0, 0],\n",
    "              [0, 1],\n",
    "              [1, 0],\n",
    "              [1, 1]])\n",
    "\n",
    "# Expected XOR outputs\n",
    "y = np.array([[0], [1], [1], [0]])\n"
   ]
  },
  {
   "cell_type": "code",
   "execution_count": 4,
   "id": "499f1815-6457-4ab1-a621-c6aed523c269",
   "metadata": {},
   "outputs": [],
   "source": [
    "#Initialize Weights and Biases\n",
    "# Set seed for reproducibility\n",
    "np.random.seed(1)\n",
    "\n",
    "# Define number of neurons in each layer\n",
    "input_layer_neurons = 2   # Input layer has 2 neurons (for XOR inputs)\n",
    "hidden_layer_neurons = 4  # Hidden layer can have more neurons (trial and error)\n",
    "output_neurons = 1        # Output layer has 1 neuron (binary output)\n",
    "\n",
    "# Random weights for input to hidden layer (2x4)\n",
    "wh = np.random.uniform(size=(input_layer_neurons, hidden_layer_neurons))\n",
    "\n",
    "# Bias for hidden layer (1x4)\n",
    "bh = np.zeros((1, hidden_layer_neurons))\n",
    "\n",
    "# Random weights for hidden to output layer (4x1)\n",
    "wo = np.random.uniform(size=(hidden_layer_neurons, output_neurons))\n",
    "\n",
    "# Bias for output layer (1x1)\n",
    "bo = np.zeros((1, output_neurons))\n"
   ]
  },
  {
   "cell_type": "code",
   "execution_count": 5,
   "id": "7310bb34-bc91-4a8f-9184-7304c287ac7a",
   "metadata": {},
   "outputs": [],
   "source": [
    "#Training Loop (Forward + Backward Propagation)\n",
    "# Number of training iterations (epochs)\n",
    "epochs = 10000\n",
    "\n",
    "# Learning rate (step size)\n",
    "lr = 0.1\n",
    "\n",
    "# Training using Gradient Descent\n",
    "for epoch in range(epochs):\n",
    "    # --- Forward Propagation ---\n",
    "    \n",
    "    # Calculate hidden layer input: dot product of inputs and weights + bias\n",
    "    hidden_input = np.dot(X, wh) + bh\n",
    "    \n",
    "    # Apply sigmoid activation to hidden layer\n",
    "    hidden_output = sigmoid(hidden_input)\n",
    "\n",
    "    # Calculate output layer input: dot product of hidden output and weights + bias\n",
    "    final_input = np.dot(hidden_output, wo) + bo\n",
    "    \n",
    "    # Apply sigmoid activation to get predicted output\n",
    "    predicted_output = sigmoid(final_input)\n",
    "\n",
    "    # --- Backward Propagation ---\n",
    "\n",
    "    # Calculate error between predicted and actual output\n",
    "    error = y - predicted_output\n",
    "\n",
    "    # Derivative of sigmoid for output layer (gradient of error)\n",
    "    d_output = error * sigmoid_derivative(predicted_output)\n",
    "\n",
    "    # Backpropagate the error to the hidden layer\n",
    "    error_hidden = d_output.dot(wo.T)\n",
    "\n",
    "    # Derivative for hidden layer\n",
    "    d_hidden = error_hidden * sigmoid_derivative(hidden_output)\n",
    "\n",
    "    # --- Update Weights and Biases ---\n",
    "    \n",
    "    # Update weights from hidden to output layer\n",
    "    wo += hidden_output.T.dot(d_output) * lr\n",
    "    \n",
    "    # Update output layer bias\n",
    "    bo += np.sum(d_output, axis=0, keepdims=True) * lr\n",
    "\n",
    "    # Update weights from input to hidden layer\n",
    "    wh += X.T.dot(d_hidden) * lr\n",
    "    \n",
    "    # Update hidden layer bias\n",
    "    bh += np.sum(d_hidden, axis=0, keepdims=True) * lr\n"
   ]
  },
  {
   "cell_type": "code",
   "execution_count": 6,
   "id": "93ba87ae-d0d4-414a-9950-963996553ba1",
   "metadata": {},
   "outputs": [
    {
     "name": "stdout",
     "output_type": "stream",
     "text": [
      "Final predictions after training:\n",
      "[[0.]\n",
      " [1.]\n",
      " [1.]\n",
      " [0.]]\n"
     ]
    }
   ],
   "source": [
    "# Output After Training\n",
    "# Print predicted outputs after training\n",
    "print(\"Final predictions after training:\")\n",
    "print(np.round(predicted_output))  # Round to get binary class predictions (0 or 1)\n"
   ]
  },
  {
   "cell_type": "code",
   "execution_count": 9,
   "id": "f8ab9715-ee33-42d8-a111-3c1572dea2bd",
   "metadata": {},
   "outputs": [
    {
     "data": {
      "image/png": "[encoded data removed]",
      "text/plain": [
       "<Figure size 640x480 with 1 Axes>"
      ]
     },
     "metadata": {},
     "output_type": "display_data"
    }
   ],
   "source": [
    "\n",
    "#Decision Boundary Visualization\n",
    "def plot_points_with_predictions():\n",
    "    # Forward pass on training inputs\n",
    "    hidden_layer = sigmoid(np.dot(X, wh) + bh)\n",
    "    output_layer = sigmoid(np.dot(hidden_layer, wo) + bo)\n",
    "    \n",
    "    # Convert output probabilities to class labels (0 or 1)\n",
    "    predictions = (output_layer > 0.5).astype(int).flatten()\n",
    "    \n",
    "    # Plot data points\n",
    "    for label in [0, 1]:\n",
    "        # Select points with this label\n",
    "        idx = np.where(predictions == label)\n",
    "        plt.scatter(X[idx, 0], X[idx, 1], \n",
    "                    label=f\"Predicted class {label}\",\n",
    "                    s=100,\n",
    "                    alpha=0.8,\n",
    "                    edgecolors='k',\n",
    "                    marker='o' if label == 0 else '^')  # Different marker for each class\n",
    "    \n",
    "    # Plot true labels as text near points (optional)\n",
    "    for i, (x1, x2) in enumerate(X):\n",
    "        plt.text(x1 + 0.02, x2 + 0.02, f\"True:{y[i][0]}\", fontsize=9)\n",
    "    \n",
    "    plt.title(\"XOR Inputs with Predicted Classes\")\n",
    "    plt.xlabel(\"Input 1\")\n",
    "    plt.ylabel(\"Input 2\")\n",
    "    plt.legend()\n",
    "    plt.grid(True)\n",
    "    plt.show()\n",
    "\n",
    "plot_points_with_predictions()\n"
   ]
  },
  {
   "cell_type": "code",
   "execution_count": null,
   "id": "de3ce2cf-df43-4761-99cb-a371e3a1800f",
   "metadata": {},
   "outputs": [],
   "source": []
  }
 ],
 "metadata": {
  "kernelspec": {
   "display_name": "Python 3 (ipykernel)",
   "language": "python",
   "name": "python3"
  },
  "language_info": {
   "codemirror_mode": {
    "name": "ipython",
    "version": 3
   },
   "file_extension": ".py",
   "mimetype": "text/x-python",
   "name": "python",
   "nbconvert_exporter": "python",
   "pygments_lexer": "ipython3",
   "version": "3.11.7"
  }
 },
 "nbformat": 4,
 "nbformat_minor": 5
}
